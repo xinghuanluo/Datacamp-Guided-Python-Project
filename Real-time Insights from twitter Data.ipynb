{
 "cells": [
  {
   "cell_type": "markdown",
   "metadata": {},
   "source": [
    "## Real-time Insights from Twitter Data"
   ]
  },
  {
   "cell_type": "code",
   "execution_count": 6,
   "metadata": {},
   "outputs": [],
   "source": [
    "from IPython.core.interactiveshell import InteractiveShell\n",
    "InteractiveShell.ast_node_interactivity = \"all\"\n",
    "import pandas as pd\n",
    "import json\n",
    "import numpy as np\n",
    "import matplotlib.pyplot as plt\n",
    "from collections import Counter"
   ]
  },
  {
   "cell_type": "code",
   "execution_count": 16,
   "metadata": {},
   "outputs": [
    {
     "name": "stdout",
     "output_type": "stream",
     "text": [
      "WW trends:\n",
      "[\n",
      " {\n",
      "  \"trends\": [\n",
      "   {\n",
      "    \"name\": \"#BeratKandili\",\n",
      "    \"url\": \"http://twitter.com/search?q=%23BeratKandili\",\n",
      "    \"promoted_content\": null,\n",
      "    \"query\": \"%23BeratKandili\",\n",
      "    \"tweet_volume\": 46373\n",
      "   },\n",
      "   {\n",
      "    \"name\": \"#GoodFriday\",\n",
      "    \"url\": \"http://twitter.com/search?q=%23GoodFriday\",\n",
      "    \"promoted_content\": null,\n",
      "    \"query\": \"%23GoodFriday\",\n",
      "    \"tweet_volume\": 81891\n",
      "   },\n",
      "   {\n",
      "    \"name\": \"#WeLoveTheEarth\",\n",
      "    \"url\": \"http://twitter.com/search?q=%23WeLoveTheEarth\",\n",
      "    \"promoted_content\": null,\n",
      "    \"query\": \"%23WeLoveTheEarth\",\n",
      "    \"tweet_volume\": 159698\n",
      "   },\n",
      "   {\n",
      "    \"name\": \"#195TLdenTTVerilir\",\n",
      "    \"url\": \"http://twitter.com/search?q=%23195TLdenTTVerilir\",\n",
      "    \"promoted_content\": null,\n",
      "    \"query\": \"%23195TLdenTTVerilir\",\n",
      "    \"tweet_volume\": null\n",
      "   },\n",
      "   {\n",
      "    \"name\": \"#AFLNorthDons\",\n",
      "    \"url\": \"http://twitter.com/search?q=%23AFLNorthDons\",\n",
      "    \"promoted_content\": null,\n",
      "    \"query\": \"%23AFLNorthDons\",\n",
      "    \"tweet_volume\": null\n",
      "   },\n",
      "   {\n",
      "    \"name\": \"Shiv Sena\",\n",
      "    \"ur\n"
     ]
    }
   ],
   "source": [
    "\n",
    "# Load WW_trends and US_trends data into the the given variables respectively\n",
    "WW_trends = json.loads(open('datasets/WWTrends.json').read())\n",
    "US_trends = json.loads(open('datasets/USTrends.json').read())\n",
    "\n",
    "# Inspecting data by printing out WW_trends \n",
    "print(\"WW trends:\")\n",
    "print(json.dumps(WW_trends, indent=1)[0:1000])\n"
   ]
  },
  {
   "cell_type": "code",
   "execution_count": 8,
   "metadata": {},
   "outputs": [
    {
     "name": "stdout",
     "output_type": "stream",
     "text": [
      "11 common trends: {'Lil Dicky', '#DinahJane1', '#WeLoveTheEarth', '#ConCalmaRemix', 'Derrick White', 'Lyra McKee', '#NRLBulldogsSouths', '#DragRace', '#AFLNorthDons', '#BLACKPINKxCorden', 'Derry'}\n"
     ]
    }
   ],
   "source": [
    "# Extracting all the WW trend names from WW_trends\n",
    "world_trends = set([trend['name'] for trend in WW_trends[0]['trends']])\n",
    "\n",
    "# Extracting all the US trend names from US_trends\n",
    "us_trends = set([trend['name'] for trend in US_trends[0]['trends'] ]) \n",
    "\n",
    "# Getting the intersection of the two sets of trends\n",
    "common_trends = world_trends.intersection(us_trends)\n",
    "\n",
    "# Inspecting the data\n",
    "print (len(common_trends), \"common trends:\", common_trends)"
   ]
  },
  {
   "cell_type": "code",
   "execution_count": 9,
   "metadata": {},
   "outputs": [
    {
     "data": {
      "text/html": [
       "<div>\n",
       "<style scoped>\n",
       "    .dataframe tbody tr th:only-of-type {\n",
       "        vertical-align: middle;\n",
       "    }\n",
       "\n",
       "    .dataframe tbody tr th {\n",
       "        vertical-align: top;\n",
       "    }\n",
       "\n",
       "    .dataframe thead th {\n",
       "        text-align: right;\n",
       "    }\n",
       "</style>\n",
       "<table border=\"1\" class=\"dataframe\">\n",
       "  <thead>\n",
       "    <tr style=\"text-align: right;\">\n",
       "      <th></th>\n",
       "      <th>name</th>\n",
       "      <th>tweet_volume</th>\n",
       "    </tr>\n",
       "  </thead>\n",
       "  <tbody>\n",
       "    <tr>\n",
       "      <th>0</th>\n",
       "      <td>#BLACKPINKxCorden</td>\n",
       "      <td>253605.0</td>\n",
       "    </tr>\n",
       "    <tr>\n",
       "      <th>1</th>\n",
       "      <td>#WeLoveTheEarth</td>\n",
       "      <td>159698.0</td>\n",
       "    </tr>\n",
       "    <tr>\n",
       "      <th>2</th>\n",
       "      <td>#HanumanJayanti</td>\n",
       "      <td>83138.0</td>\n",
       "    </tr>\n",
       "    <tr>\n",
       "      <th>3</th>\n",
       "      <td>#GoodFriday</td>\n",
       "      <td>81891.0</td>\n",
       "    </tr>\n",
       "    <tr>\n",
       "      <th>4</th>\n",
       "      <td>#يوم_الجمعه</td>\n",
       "      <td>80799.0</td>\n",
       "    </tr>\n",
       "    <tr>\n",
       "      <th>5</th>\n",
       "      <td>#KpuJanganCurang</td>\n",
       "      <td>75384.0</td>\n",
       "    </tr>\n",
       "    <tr>\n",
       "      <th>6</th>\n",
       "      <td>十二国記</td>\n",
       "      <td>46803.0</td>\n",
       "    </tr>\n",
       "    <tr>\n",
       "      <th>7</th>\n",
       "      <td>#BeratKandili</td>\n",
       "      <td>46373.0</td>\n",
       "    </tr>\n",
       "    <tr>\n",
       "      <th>8</th>\n",
       "      <td>Lil Dicky</td>\n",
       "      <td>42461.0</td>\n",
       "    </tr>\n",
       "    <tr>\n",
       "      <th>9</th>\n",
       "      <td>#ConCalmaRemix</td>\n",
       "      <td>37846.0</td>\n",
       "    </tr>\n",
       "  </tbody>\n",
       "</table>\n",
       "</div>"
      ],
      "text/plain": [
       "                name  tweet_volume\n",
       "0  #BLACKPINKxCorden      253605.0\n",
       "1    #WeLoveTheEarth      159698.0\n",
       "2    #HanumanJayanti       83138.0\n",
       "3        #GoodFriday       81891.0\n",
       "4        #يوم_الجمعه       80799.0\n",
       "5   #KpuJanganCurang       75384.0\n",
       "6               十二国記       46803.0\n",
       "7      #BeratKandili       46373.0\n",
       "8          Lil Dicky       42461.0\n",
       "9     #ConCalmaRemix       37846.0"
      ]
     },
     "execution_count": 9,
     "metadata": {},
     "output_type": "execute_result"
    }
   ],
   "source": [
    "#Finding the trends with top 10 volume in the world \n",
    "world_trends_df = pd.DataFrame(WW_trends[0]['trends']).fillna(0)\n",
    "world_trends_df.sort_values(by=['tweet_volume'], ascending=False, inplace=True, ignore_index=True)\n",
    "top_10_trends = world_trends_df[['name', 'tweet_volume']][:10]\n",
    "top_10_trends"
   ]
  },
  {
   "cell_type": "code",
   "execution_count": 10,
   "metadata": {},
   "outputs": [
    {
     "name": "stdout",
     "output_type": "stream",
     "text": [
      "Proportion of tweets including love:  0.6340996168582376\n"
     ]
    }
   ],
   "source": [
    "# Finding the proportion of text in tweets and retweets including 'love' of the whole dataset\n",
    "tweets_earth = json.loads(open('datasets/WeLoveTheEarth.json').read())\n",
    "\n",
    "def flatten_tweets(tweets_json): \n",
    "    \"\"\" Flattens out tweet dictionaries so relevant JSON\n",
    "    is in a top-level dictionary.\"\"\"\n",
    "    tweets_list = []\n",
    "    for tweet in tweets_json: \n",
    "        tweet['user_screen_name'] = tweet['user']['screen_name']\n",
    "        if 'retweeted_status' in tweet: \n",
    "            tweet['retweeted_status_user_screen_name'] = tweet['retweeted_status']['user']['screen_name']\n",
    "            tweet['retweeted_status_text'] = tweet['retweeted_status']['text']\n",
    "        tweets_list.append(tweet)\n",
    "    return tweets_list  \n",
    "\n",
    "tweets_earth_list = flatten_tweets(tweets_earth)\n",
    "tweets_df = pd.DataFrame(tweets_earth_list)\n",
    "\n",
    "def check_word_in_tweet(word, data): \n",
    "    \"\"\"Check if a word is in Twitter dataset's text. \n",
    "       Check text and reweeted text\"\"\"  \n",
    "    contains_column = word['text'].str.contains(data, case=False)\n",
    "    contains_column |= word['retweeted_status_text'].str.contains(data, case=False)\n",
    "    return contains_column\n",
    "    \n",
    "love = check_word_in_tweet(tweets_df, 'love')\n",
    "print(\"Proportion of tweets including love: \", np.sum(love)/tweets_df.shape[0])"
   ]
  },
  {
   "cell_type": "code",
   "execution_count": 11,
   "metadata": {},
   "outputs": [
    {
     "data": {
      "text/plain": [
       "[<matplotlib.lines.Line2D at 0x1dc5601f908>]"
      ]
     },
     "execution_count": 11,
     "metadata": {},
     "output_type": "execute_result"
    },
    {
     "data": {
      "text/plain": [
       "Text(0.5, 0, 'Minute')"
      ]
     },
     "execution_count": 11,
     "metadata": {},
     "output_type": "execute_result"
    },
    {
     "data": {
      "text/plain": [
       "Text(0, 0.5, 'Frequency of Love')"
      ]
     },
     "execution_count": 11,
     "metadata": {},
     "output_type": "execute_result"
    },
    {
     "data": {
      "text/plain": [
       "Text(0.5, 1.0, 'Love mentions over time')"
      ]
     },
     "execution_count": 11,
     "metadata": {},
     "output_type": "execute_result"
    },
    {
     "data": {
      "image/png": "[encoded data removed]",
      "text/plain": [
       "<Figure size 432x288 with 1 Axes>"
      ]
     },
     "metadata": {
      "needs_background": "light"
     },
     "output_type": "display_data"
    }
   ],
   "source": [
    "# Finding the frequency of love got mentioned by minute\n",
    "tweets_df['created_at'] = pd.to_datetime(tweets_df['created_at'])\n",
    "tweets_time_df = tweets_df.set_index('created_at')\n",
    "%matplotlib inline\n",
    "\n",
    "tweets_time_df['love'] = check_word_in_tweet(tweets_time_df, 'love')\n",
    "mean_love = tweets_time_df['love'].resample('T').mean()\n",
    "\n",
    "plt.plot(mean_love.index.minute, mean_love, color='blue')\n",
    "plt.xlabel('Minute');plt.ylabel('Frequency of Love')\n",
    "plt.title('Love mentions over time')"
   ]
  },
  {
   "cell_type": "code",
   "execution_count": 12,
   "metadata": {},
   "outputs": [
    {
     "name": "stdout",
     "output_type": "stream",
     "text": [
      "[('lildickytweets', 102), ('LeoDiCaprio', 44), ('ShawnMendes', 33), ('halsey', 31), ('ArianaGrande', 30), ('justinbieber', 29), ('Spotify', 26), ('edsheeran', 26), ('sanbenito', 25), ('SnoopDogg', 25)] \n",
      "\n",
      "[('WeLoveTheEarth', 313), ('4future', 12), ('19aprile', 12), ('EARTH', 11), ('fridaysforfuture', 10), ('EarthMusicVideo', 3), ('ConCalmaRemix', 3), ('Earth', 3), ('aliens', 2), ('AvengersEndgame', 2)] \n",
      "\n"
     ]
    }
   ],
   "source": [
    "# Finding the top 10 mentioned screen names and hashtags\n",
    "# Extracting the text of all the tweets from the tweet object\n",
    "texts = [tweet['text'] for tweet in tweets_earth]\n",
    "\n",
    "# # Extracting screen names of users tweeting about #WeLoveTheEarth\n",
    "names = [user_mentions['screen_name'] for tweet in tweets_earth for user_mentions in tweet['entities']['user_mentions']]\n",
    "\n",
    "# # Extracting all the hashtags being used when talking about this topic\n",
    "hashtags = [hashtag['text'] for tweet in tweets_earth for hashtag in tweet['entities']['hashtags']]\n",
    "\n",
    "# Counting occcurrences/ getting frequency dist of all names and hashtags\n",
    "for item in [names, hashtags]:\n",
    "    c = Counter(item)\n",
    "    # Inspecting the 10 most common items in c\n",
    "    print (c.most_common(10), \"\\n\")"
   ]
  },
  {
   "cell_type": "code",
   "execution_count": 13,
   "metadata": {},
   "outputs": [
    {
     "data": {
      "text/html": [
       "<style  type=\"text/css\" >\n",
       "    #T_1bb6f270_0018_11eb_b5ac_7c67a2cb87b5row0_col0 {\n",
       "            background-color:  #fff7fb;\n",
       "            color:  #000000;\n",
       "        }    #T_1bb6f270_0018_11eb_b5ac_7c67a2cb87b5row0_col1 {\n",
       "            background-color:  #fff7fb;\n",
       "            color:  #000000;\n",
       "        }    #T_1bb6f270_0018_11eb_b5ac_7c67a2cb87b5row1_col0 {\n",
       "            background-color:  #fff7fb;\n",
       "            color:  #000000;\n",
       "        }    #T_1bb6f270_0018_11eb_b5ac_7c67a2cb87b5row1_col1 {\n",
       "            background-color:  #fff7fb;\n",
       "            color:  #000000;\n",
       "        }    #T_1bb6f270_0018_11eb_b5ac_7c67a2cb87b5row2_col0 {\n",
       "            background-color:  #fff7fb;\n",
       "            color:  #000000;\n",
       "        }    #T_1bb6f270_0018_11eb_b5ac_7c67a2cb87b5row2_col1 {\n",
       "            background-color:  #fff7fb;\n",
       "            color:  #000000;\n",
       "        }    #T_1bb6f270_0018_11eb_b5ac_7c67a2cb87b5row3_col0 {\n",
       "            background-color:  #e0deed;\n",
       "            color:  #000000;\n",
       "        }    #T_1bb6f270_0018_11eb_b5ac_7c67a2cb87b5row3_col1 {\n",
       "            background-color:  #e3e0ee;\n",
       "            color:  #000000;\n",
       "        }    #T_1bb6f270_0018_11eb_b5ac_7c67a2cb87b5row4_col0 {\n",
       "            background-color:  #023858;\n",
       "            color:  #f1f1f1;\n",
       "        }    #T_1bb6f270_0018_11eb_b5ac_7c67a2cb87b5row4_col1 {\n",
       "            background-color:  #023858;\n",
       "            color:  #f1f1f1;\n",
       "        }</style><table id=\"T_1bb6f270_0018_11eb_b5ac_7c67a2cb87b5\" ><thead>    <tr>        <th class=\"blank\" ></th>        <th class=\"blank\" ></th>        <th class=\"blank level0\" ></th>        <th class=\"col_heading level0 col0\" >Retweets</th>        <th class=\"col_heading level0 col1\" >Favorites</th>    </tr>    <tr>        <th class=\"index_name level0\" >ScreenName</th>        <th class=\"index_name level1\" >Text</th>        <th class=\"index_name level2\" >Followers</th>        <th class=\"blank\" ></th>        <th class=\"blank\" ></th>    </tr></thead><tbody>\n",
       "                <tr>\n",
       "                        <th id=\"T_1bb6f270_0018_11eb_b5ac_7c67a2cb87b5level0_row0\" class=\"row_heading level0 row0\" rowspan=2>katyperry</th>\n",
       "                        <th id=\"T_1bb6f270_0018_11eb_b5ac_7c67a2cb87b5level1_row0\" class=\"row_heading level1 row0\" rowspan=2>RT @katyperry: Sure, the Mueller report is out, but @lildickytweets’ \"Earth\" but will be too tonight. Don't say I never tried to save the w…</th>\n",
       "                        <th id=\"T_1bb6f270_0018_11eb_b5ac_7c67a2cb87b5level2_row0\" class=\"row_heading level2 row0\" >107195569</th>\n",
       "                        <td id=\"T_1bb6f270_0018_11eb_b5ac_7c67a2cb87b5row0_col0\" class=\"data row0 col0\" >2338</td>\n",
       "                        <td id=\"T_1bb6f270_0018_11eb_b5ac_7c67a2cb87b5row0_col1\" class=\"data row0 col1\" >10557</td>\n",
       "            </tr>\n",
       "            <tr>\n",
       "                                        <th id=\"T_1bb6f270_0018_11eb_b5ac_7c67a2cb87b5level2_row1\" class=\"row_heading level2 row1\" >107195568</th>\n",
       "                        <td id=\"T_1bb6f270_0018_11eb_b5ac_7c67a2cb87b5row1_col0\" class=\"data row1 col0\" >2338</td>\n",
       "                        <td id=\"T_1bb6f270_0018_11eb_b5ac_7c67a2cb87b5row1_col1\" class=\"data row1 col1\" >10556</td>\n",
       "            </tr>\n",
       "            <tr>\n",
       "                        <th id=\"T_1bb6f270_0018_11eb_b5ac_7c67a2cb87b5level0_row2\" class=\"row_heading level0 row2\" >TheEllenShow</th>\n",
       "                        <th id=\"T_1bb6f270_0018_11eb_b5ac_7c67a2cb87b5level1_row2\" class=\"row_heading level1 row2\" >RT @TheEllenShow: .@lildickytweets, @justinbieber, @MileyCyrus, @katyperry, @ArianaGrande and more, all in one music video. My head might e…</th>\n",
       "                        <th id=\"T_1bb6f270_0018_11eb_b5ac_7c67a2cb87b5level2_row2\" class=\"row_heading level2 row2\" >77474826</th>\n",
       "                        <td id=\"T_1bb6f270_0018_11eb_b5ac_7c67a2cb87b5row2_col0\" class=\"data row2 col0\" >2432</td>\n",
       "                        <td id=\"T_1bb6f270_0018_11eb_b5ac_7c67a2cb87b5row2_col1\" class=\"data row2 col1\" >10086</td>\n",
       "            </tr>\n",
       "            <tr>\n",
       "                        <th id=\"T_1bb6f270_0018_11eb_b5ac_7c67a2cb87b5level0_row3\" class=\"row_heading level0 row3\" rowspan=2>LeoDiCaprio</th>\n",
       "                        <th id=\"T_1bb6f270_0018_11eb_b5ac_7c67a2cb87b5level1_row3\" class=\"row_heading level1 row3\" >RT @LeoDiCaprio: The @dicapriofdn partners that will benefit from this collaboration include @SharkRayFund, @SolutionsProj, @GreengrantsFun…</th>\n",
       "                        <th id=\"T_1bb6f270_0018_11eb_b5ac_7c67a2cb87b5level2_row3\" class=\"row_heading level2 row3\" >18988898</th>\n",
       "                        <td id=\"T_1bb6f270_0018_11eb_b5ac_7c67a2cb87b5row3_col0\" class=\"data row3 col0\" >28505</td>\n",
       "                        <td id=\"T_1bb6f270_0018_11eb_b5ac_7c67a2cb87b5row3_col1\" class=\"data row3 col1\" >78137</td>\n",
       "            </tr>\n",
       "            <tr>\n",
       "                                <th id=\"T_1bb6f270_0018_11eb_b5ac_7c67a2cb87b5level1_row4\" class=\"row_heading level1 row4\" >RT @LeoDiCaprio: Thank you to @lildickytweets and all the artists that came together to make this happen. Net profits from the song, video,…</th>\n",
       "                        <th id=\"T_1bb6f270_0018_11eb_b5ac_7c67a2cb87b5level2_row4\" class=\"row_heading level2 row4\" >18988898</th>\n",
       "                        <td id=\"T_1bb6f270_0018_11eb_b5ac_7c67a2cb87b5row4_col0\" class=\"data row4 col0\" >149992</td>\n",
       "                        <td id=\"T_1bb6f270_0018_11eb_b5ac_7c67a2cb87b5row4_col1\" class=\"data row4 col1\" >416018</td>\n",
       "            </tr>\n",
       "    </tbody></table>"
      ],
      "text/plain": [
       "<pandas.io.formats.style.Styler at 0x1dc560589c8>"
      ]
     },
     "execution_count": 13,
     "metadata": {},
     "output_type": "execute_result"
    }
   ],
   "source": [
    "# Extracting useful information from retweets\n",
    "retweets = [ (tweet['retweet_count'], \n",
    "              tweet['retweeted_status']['favorite_count'],\n",
    "              tweet['retweeted_status']['user']['followers_count'],\n",
    "              tweet['retweeted_status']['user']['screen_name'],\n",
    "              tweet['text'])\n",
    "            \n",
    "            for tweet in tweets_earth \n",
    "                if 'retweeted_status' in tweet\n",
    "           ]\n",
    "\n",
    "# Create a DataFrame and visualize the data in a pretty and insightful format\n",
    "df = pd.DataFrame(retweets, columns=['Retweets','Favorites', 'Followers', 'ScreenName', 'Text'])\n",
    "\n",
    "df = df.groupby(['ScreenName','Text','Followers']).sum()\n",
    "\n",
    "df = df.sort_values(by=['Followers'], ascending=False)\n",
    "\n",
    "df.head().style.background_gradient()"
   ]
  },
  {
   "cell_type": "code",
   "execution_count": 14,
   "metadata": {},
   "outputs": [
    {
     "data": {
      "text/plain": [
       "(array([303., 107.,  22.,  14.,  36.,  32.,   3.,   2.,   1.,   2.]),\n",
       " array([ 0. ,  1.3,  2.6,  3.9,  5.2,  6.5,  7.8,  9.1, 10.4, 11.7, 13. ]),\n",
       " <a list of 10 Patch objects>)"
      ]
     },
     "execution_count": 14,
     "metadata": {},
     "output_type": "execute_result"
    },
    {
     "data": {
      "image/png": "[encoded data removed]",
      "text/plain": [
       "<Figure size 432x288 with 1 Axes>"
      ]
     },
     "metadata": {
      "needs_background": "light"
     },
     "output_type": "display_data"
    }
   ],
   "source": [
    "# Extracting language for each tweet and appending it to the list of languages\n",
    "tweets_languages = []\n",
    "for tweet in tweets_earth: \n",
    "    tweets_languages.append(tweet['lang'])\n",
    "\n",
    "# Plotting the distribution of languages\n",
    "%matplotlib inline\n",
    "plt.hist(tweets_languages)"
   ]
  }
 ],
 "metadata": {
  "kernelspec": {
   "display_name": "Python 3",
   "language": "python",
   "name": "python3"
  },
  "language_info": {
   "codemirror_mode": {
    "name": "ipython",
    "version": 3
   },
   "file_extension": ".py",
   "mimetype": "text/x-python",
   "name": "python",
   "nbconvert_exporter": "python",
   "pygments_lexer": "ipython3",
   "version": "3.7.6"
  }
 },
 "nbformat": 4,
 "nbformat_minor": 4
}
